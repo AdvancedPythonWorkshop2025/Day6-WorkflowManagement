{
 "cells": [
  {
   "cell_type": "code",
   "execution_count": 21,
   "id": "587d512f",
   "metadata": {},
   "outputs": [],
   "source": [
    "import json\n",
    "import os\n",
    "from pathlib import Path\n",
    "\n",
    "import xmltodict\n",
    "import numpy as np\n",
    "import pandas as pd\n"
   ]
  },
  {
   "cell_type": "markdown",
   "id": "cdf55233",
   "metadata": {},
   "source": [
    "### Setup"
   ]
  },
  {
   "cell_type": "code",
   "execution_count": 3,
   "id": "19200bba",
   "metadata": {},
   "outputs": [
    {
     "data": {
      "text/plain": [
       "'c:\\\\Users\\\\delgr\\\\Projects\\\\advancedPython\\\\Day6a'"
      ]
     },
     "execution_count": 3,
     "metadata": {},
     "output_type": "execute_result"
    }
   ],
   "source": [
    "os.chdir('..')\n",
    "os.getcwd()"
   ]
  },
  {
   "cell_type": "markdown",
   "id": "04ac05f8",
   "metadata": {},
   "source": [
    "### Set Script Parameters"
   ]
  },
  {
   "cell_type": "code",
   "execution_count": 4,
   "id": "2c67cabd",
   "metadata": {},
   "outputs": [],
   "source": [
    "session_dir = 'data/raw/20161214_cori_steinmetz'"
   ]
  },
  {
   "cell_type": "code",
   "execution_count": 5,
   "id": "28e13a4b",
   "metadata": {},
   "outputs": [],
   "source": [
    "session_path = Path(session_dir)\n",
    "assert session_path.exists()"
   ]
  },
  {
   "cell_type": "markdown",
   "id": "7139fb67",
   "metadata": {},
   "source": [
    "### Extract Data"
   ]
  },
  {
   "cell_type": "code",
   "execution_count": 6,
   "id": "d6bf90fd",
   "metadata": {},
   "outputs": [
    {
     "data": {
      "text/plain": [
       "[WindowsPath('data/raw/20161214_cori_steinmetz/eye_tracking/CHUNK00001.xml'),\n",
       " WindowsPath('data/raw/20161214_cori_steinmetz/eye_tracking/CHUNK00002.xml'),\n",
       " WindowsPath('data/raw/20161214_cori_steinmetz/eye_tracking/CHUNK00003.xml'),\n",
       " WindowsPath('data/raw/20161214_cori_steinmetz/eye_tracking/CHUNK00004.xml'),\n",
       " WindowsPath('data/raw/20161214_cori_steinmetz/eye_tracking/CHUNK00005.xml'),\n",
       " WindowsPath('data/raw/20161214_cori_steinmetz/eye_tracking/CHUNK00006.xml'),\n",
       " WindowsPath('data/raw/20161214_cori_steinmetz/eye_tracking/CHUNK00007.xml')]"
      ]
     },
     "execution_count": 6,
     "metadata": {},
     "output_type": "execute_result"
    }
   ],
   "source": [
    "chunk_files = list(session_path.glob('eye_tracking/CHUNK*.xml'))\n",
    "chunk_files"
   ]
  },
  {
   "cell_type": "code",
   "execution_count": 7,
   "id": "7fe199a6",
   "metadata": {},
   "outputs": [
    {
     "data": {
      "text/html": [
       "<div>\n",
       "<style scoped>\n",
       "    .dataframe tbody tr th:only-of-type {\n",
       "        vertical-align: middle;\n",
       "    }\n",
       "\n",
       "    .dataframe tbody tr th {\n",
       "        vertical-align: top;\n",
       "    }\n",
       "\n",
       "    .dataframe thead th {\n",
       "        text-align: right;\n",
       "    }\n",
       "</style>\n",
       "<table border=\"1\" class=\"dataframe\">\n",
       "  <thead>\n",
       "    <tr style=\"text-align: right;\">\n",
       "      <th></th>\n",
       "      <th>time</th>\n",
       "      <th>pupil_x</th>\n",
       "      <th>pupil_y</th>\n",
       "      <th>pupil_area</th>\n",
       "    </tr>\n",
       "  </thead>\n",
       "  <tbody>\n",
       "    <tr>\n",
       "      <th>0</th>\n",
       "      <td>0</td>\n",
       "      <td>0.812856</td>\n",
       "      <td>0.664247</td>\n",
       "      <td>0.165841</td>\n",
       "    </tr>\n",
       "    <tr>\n",
       "      <th>1</th>\n",
       "      <td>10</td>\n",
       "      <td>0.778162</td>\n",
       "      <td>0.612752</td>\n",
       "      <td>0.158668</td>\n",
       "    </tr>\n",
       "    <tr>\n",
       "      <th>2</th>\n",
       "      <td>20</td>\n",
       "      <td>0.812352</td>\n",
       "      <td>0.632769</td>\n",
       "      <td>0.169667</td>\n",
       "    </tr>\n",
       "    <tr>\n",
       "      <th>3</th>\n",
       "      <td>30</td>\n",
       "      <td>0.760796</td>\n",
       "      <td>0.779100</td>\n",
       "      <td>0.172513</td>\n",
       "    </tr>\n",
       "    <tr>\n",
       "      <th>4</th>\n",
       "      <td>40</td>\n",
       "      <td>0.790401</td>\n",
       "      <td>0.680980</td>\n",
       "      <td>0.176774</td>\n",
       "    </tr>\n",
       "    <tr>\n",
       "      <th>...</th>\n",
       "      <td>...</td>\n",
       "      <td>...</td>\n",
       "      <td>...</td>\n",
       "      <td>...</td>\n",
       "    </tr>\n",
       "    <tr>\n",
       "      <th>90995</th>\n",
       "      <td>909950</td>\n",
       "      <td>-0.446190</td>\n",
       "      <td>0.230169</td>\n",
       "      <td>0.117658</td>\n",
       "    </tr>\n",
       "    <tr>\n",
       "      <th>90996</th>\n",
       "      <td>909960</td>\n",
       "      <td>-0.472352</td>\n",
       "      <td>0.359197</td>\n",
       "      <td>0.120560</td>\n",
       "    </tr>\n",
       "    <tr>\n",
       "      <th>90997</th>\n",
       "      <td>909970</td>\n",
       "      <td>-0.453607</td>\n",
       "      <td>0.130451</td>\n",
       "      <td>0.113835</td>\n",
       "    </tr>\n",
       "    <tr>\n",
       "      <th>90998</th>\n",
       "      <td>909980</td>\n",
       "      <td>-0.486026</td>\n",
       "      <td>0.239184</td>\n",
       "      <td>0.109935</td>\n",
       "    </tr>\n",
       "    <tr>\n",
       "      <th>90999</th>\n",
       "      <td>909990</td>\n",
       "      <td>-0.491644</td>\n",
       "      <td>0.270002</td>\n",
       "      <td>0.119929</td>\n",
       "    </tr>\n",
       "  </tbody>\n",
       "</table>\n",
       "<p>91000 rows × 4 columns</p>\n",
       "</div>"
      ],
      "text/plain": [
       "         time   pupil_x   pupil_y  pupil_area\n",
       "0           0  0.812856  0.664247    0.165841\n",
       "1          10  0.778162  0.612752    0.158668\n",
       "2          20  0.812352  0.632769    0.169667\n",
       "3          30  0.760796  0.779100    0.172513\n",
       "4          40  0.790401  0.680980    0.176774\n",
       "...       ...       ...       ...         ...\n",
       "90995  909950 -0.446190  0.230169    0.117658\n",
       "90996  909960 -0.472352  0.359197    0.120560\n",
       "90997  909970 -0.453607  0.130451    0.113835\n",
       "90998  909980 -0.486026  0.239184    0.109935\n",
       "90999  909990 -0.491644  0.270002    0.119929\n",
       "\n",
       "[91000 rows x 4 columns]"
      ]
     },
     "execution_count": 7,
     "metadata": {},
     "output_type": "execute_result"
    }
   ],
   "source": [
    "time, pupil_x, pupil_y, pupil_area = [], [], [], []\n",
    "for file in sorted(chunk_files):\n",
    "    data = xmltodict.parse(file.read_bytes())['root']\n",
    "    for frame in data.values():\n",
    "        time.append(int(frame['time']['#text']))\n",
    "        pupil_x.append(float(frame['pupilx']['#text']))\n",
    "        pupil_y.append(float(frame['pupily']['#text']))\n",
    "        pupil_area.append(float(frame['pupil_area']['#text']))\n",
    "\n",
    "\n",
    "df = pd.DataFrame({'time': time, 'pupil_x': pupil_x, 'pupil_y': pupil_y, 'pupil_area': pupil_area})\n",
    "df = df.astype({'time': np.uint32})\n",
    "df"
   ]
  },
  {
   "cell_type": "code",
   "execution_count": 12,
   "id": "6901cad5",
   "metadata": {},
   "outputs": [],
   "source": [
    "extracted_path = Path(f'data/extracted/{session_path.name}/eye_tracking')\n",
    "extracted_path.mkdir(parents=True, exist_ok=True)"
   ]
  },
  {
   "cell_type": "code",
   "execution_count": 13,
   "id": "16e592cf",
   "metadata": {},
   "outputs": [],
   "source": [
    "np.save(extracted_path / 'recording.npy', df.to_records(index=False))"
   ]
  },
  {
   "cell_type": "code",
   "execution_count": 23,
   "id": "30e306ff",
   "metadata": {},
   "outputs": [
    {
     "data": {
      "text/plain": [
       "{'pupil_x': {'units': 'px', 'description': 'Pupil X Position'},\n",
       " 'pupil_y': {'units': 'px', 'description': 'Pupil Y Position'},\n",
       " 'pupil_area': {'units': 'px^2', 'description': 'Pupil Area'}}"
      ]
     },
     "execution_count": 23,
     "metadata": {},
     "output_type": "execute_result"
    }
   ],
   "source": [
    "mdata = {}\n",
    "mdata['pupil_x'] = {\n",
    "    'units': frame['pupilx']['@units'],\n",
    "    'description': frame['pupilx']['@name']\n",
    "}\n",
    "mdata['pupil_y'] = {\n",
    "    'units': frame['pupily']['@units'],\n",
    "    'description': frame['pupily']['@name']\n",
    "}\n",
    "mdata['pupil_area'] = {\n",
    "    'units': frame['pupil_area']['@units'],\n",
    "    'description': frame['pupil_area']['@name']\n",
    "}\n",
    "frame\n",
    "mdata\n",
    "(extracted_path/'recording.json').write_text(json.dumps(mdata, indent=3))\n",
    "mdata"
   ]
  },
  {
   "cell_type": "markdown",
   "id": "c17ad6bf",
   "metadata": {},
   "source": [
    "### Quality Check"
   ]
  },
  {
   "cell_type": "code",
   "execution_count": 18,
   "id": "b5964f94",
   "metadata": {},
   "outputs": [
    {
     "data": {
      "text/plain": [
       "<Axes: xlabel='time'>"
      ]
     },
     "execution_count": 18,
     "metadata": {},
     "output_type": "execute_result"
    },
    {
     "data": {
      "image/png": "[encoded data removed]",
      "text/plain": [
       "<Figure size 640x480 with 1 Axes>"
      ]
     },
     "metadata": {},
     "output_type": "display_data"
    }
   ],
   "source": [
    "(df.set_index('time') + [10, 20, 30]).plot()"
   ]
  },
  {
   "cell_type": "code",
   "execution_count": null,
   "id": "ab851e3c",
   "metadata": {},
   "outputs": [],
   "source": []
  }
 ],
 "metadata": {
  "kernelspec": {
   "display_name": "default",
   "language": "python",
   "name": "python3"
  },
  "language_info": {
   "codemirror_mode": {
    "name": "ipython",
    "version": 3
   },
   "file_extension": ".py",
   "mimetype": "text/x-python",
   "name": "python",
   "nbconvert_exporter": "python",
   "pygments_lexer": "ipython3",
   "version": "3.11.11"
  }
 },
 "nbformat": 4,
 "nbformat_minor": 5
}
