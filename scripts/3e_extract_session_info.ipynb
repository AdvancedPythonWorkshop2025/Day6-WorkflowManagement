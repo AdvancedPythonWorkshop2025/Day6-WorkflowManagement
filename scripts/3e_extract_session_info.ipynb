{
 "cells": [
  {
   "cell_type": "code",
   "execution_count": 14,
   "id": "02b53242",
   "metadata": {},
   "outputs": [],
   "source": [
    "from datetime import datetime\n",
    "import json\n",
    "import os\n",
    "from pathlib import Path"
   ]
  },
  {
   "cell_type": "markdown",
   "id": "29f69e8f",
   "metadata": {},
   "source": [
    "### Setup"
   ]
  },
  {
   "cell_type": "code",
   "execution_count": 2,
   "id": "fd097788",
   "metadata": {},
   "outputs": [
    {
     "data": {
      "text/plain": [
       "'c:\\\\Users\\\\delgr\\\\Projects\\\\advancedPython\\\\Day6a'"
      ]
     },
     "execution_count": 2,
     "metadata": {},
     "output_type": "execute_result"
    }
   ],
   "source": [
    "os.chdir('..')\n",
    "os.getcwd()"
   ]
  },
  {
   "cell_type": "markdown",
   "id": "3d82d579",
   "metadata": {},
   "source": [
    "### Set Script Parameters"
   ]
  },
  {
   "cell_type": "code",
   "execution_count": 3,
   "id": "644fb7b3",
   "metadata": {},
   "outputs": [],
   "source": [
    "session_dir = 'data/raw/20161214_cori_steinmetz'"
   ]
  },
  {
   "cell_type": "code",
   "execution_count": 4,
   "id": "e2f68849",
   "metadata": {},
   "outputs": [],
   "source": [
    "session_path = Path(session_dir)\n",
    "assert session_path.exists()"
   ]
  },
  {
   "cell_type": "markdown",
   "id": "922e1433",
   "metadata": {},
   "source": [
    "### Extract Session Info from Filenames"
   ]
  },
  {
   "cell_type": "code",
   "execution_count": 28,
   "id": "cc1e9717",
   "metadata": {},
   "outputs": [
    {
     "data": {
      "text/plain": [
       "{'date': '2016-12-14T00:00:00', 'subject': 'cori', 'researcher': 'steinmetz'}"
      ]
     },
     "execution_count": 28,
     "metadata": {},
     "output_type": "execute_result"
    }
   ],
   "source": [
    "session = {}\n",
    "date, subject, researcher = session_path.name.split('_')\n",
    "session['date'] = datetime(year=int(date[:4]), month=int(date[4:6]), day=int(date[6:8])).isoformat()\n",
    "session['subject'] = subject\n",
    "session['researcher'] = researcher\n",
    "session"
   ]
  },
  {
   "cell_type": "code",
   "execution_count": 31,
   "id": "392ff911",
   "metadata": {},
   "outputs": [
    {
     "name": "stdout",
     "output_type": "stream",
     "text": [
      "{\n",
      "   \"date\": \"2016-12-14T00:00:00\",\n",
      "   \"subject\": \"cori\",\n",
      "   \"researcher\": \"steinmetz\"\n",
      "}\n"
     ]
    }
   ],
   "source": [
    "extracted_path = Path(f'data/extracted/{session_path.name}')\n",
    "extracted_path.mkdir(parents=True, exist_ok=True)\n",
    "json_text = json.dumps(session, indent=3)\n",
    "(extracted_path/'session.json').write_text(json_text)\n",
    "print(json_text)"
   ]
  },
  {
   "cell_type": "code",
   "execution_count": null,
   "id": "344afe68",
   "metadata": {},
   "outputs": [],
   "source": []
  }
 ],
 "metadata": {
  "kernelspec": {
   "display_name": "default",
   "language": "python",
   "name": "python3"
  },
  "language_info": {
   "codemirror_mode": {
    "name": "ipython",
    "version": 3
   },
   "file_extension": ".py",
   "mimetype": "text/x-python",
   "name": "python",
   "nbconvert_exporter": "python",
   "pygments_lexer": "ipython3",
   "version": "3.11.11"
  }
 },
 "nbformat": 4,
 "nbformat_minor": 5
}
